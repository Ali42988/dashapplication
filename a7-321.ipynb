{
 "cells": [
  {
   "cell_type": "code",
   "execution_count": 49,
   "id": "0f0732f7-3cb9-4b9e-ac9a-596cb4300034",
   "metadata": {},
   "outputs": [],
   "source": [
    "import pandas as pd\n",
    "import plotly.express as px\n",
    "from dash import Dash, dcc, html\n",
    "from dash.dependencies import Input, Output"
   ]
  },
  {
   "cell_type": "code",
   "execution_count": null,
   "id": "cdabcd6a-b5f0-49ab-b35a-3508bb541f01",
   "metadata": {},
   "outputs": [],
   "source": [
    "data = {#every year world cup was played \n",
    "    'Year': [1930, 1934, 1938, 1950, 1954, 1958, 1962, 1966, 1970, 1974, 1978, \n",
    "             1982, 1986, 1990, 1994, 1998, 2002, 2006, 2010, 2014, 2018, 2022],\n",
    "\n",
    "    #winners per year \n",
    "    'Winner': ['Uruguay', 'Italy', 'Italy', 'Uruguay', 'West Germany', 'Brazil', \n",
    "               'Brazil', 'England', 'Brazil', 'West Germany', 'Argentina', 'Italy', \n",
    "               'Argentina', 'West Germany', 'Brazil', 'France', 'Brazil', 'Italy', \n",
    "               'Spain', 'Germany', 'France', 'Argentina'],\n",
    "\n",
    "    #adding rummer up data per year \n",
    "    'Runner-Up': ['Argentina', 'Czechoslovakia', 'Hungary', 'Brazil', 'Hungary', 'Sweden', \n",
    "                  'Czechoslovakia', 'West Germany', 'Italy', 'Netherlands', 'Netherlands', \n",
    "                  'West Germany', 'West Germany', 'Argentina', 'Italy', 'Brazil', 'Germany', \n",
    "                  'France', 'Netherlands', 'Argentina', 'Croatia', 'France'],\n",
    "\n",
    "    #adding score data for final \n",
    "    'Score': ['4-2', '2-1', '4-2', '2-1', '3-2', '5-2', '3-1', '4-2', '4-1', '2-1', \n",
    "              '3-1', '3-1', '3-2', '1-0', '0-0 (3-2 pen)', '3-0', '2-0', '1-1 (5-3 pen)', \n",
    "              '1-0', '1-0', '4-2', '3-3 (4-2 pen)']\n",
    "}"
   ]
  },
  {
   "cell_type": "code",
   "execution_count": 51,
   "id": "a7c2ca5c-58b9-4641-8d33-2740c202eddd",
   "metadata": {},
   "outputs": [],
   "source": [
    "\n",
    "df = pd.DataFrame(data)\n",
    "df['Winner_Count'] = df.groupby('Winner')['Winner'].transform('count')"
   ]
  },
  {
   "cell_type": "code",
   "execution_count": 77,
   "id": "9ca72a03-8c5c-4537-9d53-d18be403269a",
   "metadata": {
    "scrolled": true
   },
   "outputs": [
    {
     "data": {
      "text/html": [
       "\n",
       "        <iframe\n",
       "            width=\"100%\"\n",
       "            height=\"650\"\n",
       "            src=\"http://127.0.0.1:8050/\"\n",
       "            frameborder=\"0\"\n",
       "            allowfullscreen\n",
       "            \n",
       "        ></iframe>\n",
       "        "
      ],
      "text/plain": [
       "<IPython.lib.display.IFrame at 0x166bbe120>"
      ]
     },
     "metadata": {},
     "output_type": "display_data"
    }
   ],
   "source": [
    "app = Dash(__name__)\n",
    "server = app.server\n",
    "\n",
    "# App Layout\n",
    "app.layout = html.Div([\n",
    "    html.H1(\"FIFA World Cup Finals Dashboard A7\", style={'textAlign': 'center'}),\n",
    "    html.P(\"view the history of FIFA World Cup winners and runner-ups from 1930 to 2022.\", \n",
    "           style={'textAlign': 'center', 'fontSize': '16px', 'marginBottom': '20px'}),\n",
    "\n",
    "    html.H3(\"World Cup Winners Map\"),\n",
    "    html.P(\"This map shows the countries that have won the World Cup.\"),dcc.Graph(id='world-map'),\n",
    "\n",
    "    html.H3(\"Select a Country to View Wins\"),\n",
    "    dcc.Dropdown(id='country-dropdown',options=[{'label': country, 'value': country} for country in df['Winner'].unique()],value='Brazil',\n",
    "        clearable=False\n",
    "    ),\n",
    "    #setting a base selection (brazil)\n",
    "    \n",
    "    html.Div(id='country-info', style={'fontSize': '18px', 'marginTop': '10px', 'fontWeight': 'bold'}),\n",
    "\n",
    "    html.H3(\"Select a Year to View Match Details\"),\n",
    "    dcc.Slider(id='year-slider',min=df['Year'].min(),max=df['Year'].max(),step=4,marks={str(year): str(year) for year in df['Year']},value=df['Year'].min()),\n",
    "    html.Div(id='year-info', style={'fontSize': '25px', 'marginTop': '25px', 'fontWeight': 'bold'})\n",
    "])\n",
    "\n",
    "# Callbacks\n",
    "@app.callback(\n",
    "    Output('world-map', 'figure'),\n",
    "    Input('year-slider', 'value')\n",
    ")\n",
    "def update_map(selected_year):\n",
    "    fig = px.choropleth(df, locations='Winner', locationmode='country names',color='Winner_Count', hover_name='Winner',title=f'World Cup Winners (Up to {selected_year})')\n",
    "    fig.update_layout(coloraxis_colorbar=dict(title=\"# of Wins\"))\n",
    "    return fig\n",
    "\n",
    "@app.callback(\n",
    "    Output('country-info', 'children'),Input('country-dropdown', 'value') #adding drop down to select contry\n",
    ")\n",
    "def update_country_info(selected_country):\n",
    "    wins = df[df['Winner'] == selected_country].shape[0]\n",
    "    return f\"{selected_country} has won the FIFA World Cup {wins} times.\"\n",
    "\n",
    "@app.callback(\n",
    "    Output('year-info', 'children'),Input('year-slider', 'value')\n",
    ")\n",
    "def update_year_info(selected_year):\n",
    "    match = df[df['Year'] == selected_year]\n",
    "    if not match.empty:\n",
    "        winner = match['Winner'].values[0]\n",
    "        runner_up = match['Runner-Up'].values[0]\n",
    "        score = match['Score'].values[0]\n",
    "        return f\"In the year {selected_year}, {winner} won the final against {runner_up} with a score of {score}.\"\n",
    "    return \"No data available.\"\n",
    "\n",
    "if __name__ == \"__main__\":\n",
    "    app.run(jupyter_mode=\"inline\")"
   ]
  },
  {
   "cell_type": "code",
   "execution_count": null,
   "id": "225137b5-c380-41fe-98f5-af9884193eb4",
   "metadata": {},
   "outputs": [],
   "source": []
  }
 ],
 "metadata": {
  "kernelspec": {
   "display_name": "Python [conda env:base] *",
   "language": "python",
   "name": "conda-base-py"
  },
  "language_info": {
   "codemirror_mode": {
    "name": "ipython",
    "version": 3
   },
   "file_extension": ".py",
   "mimetype": "text/x-python",
   "name": "python",
   "nbconvert_exporter": "python",
   "pygments_lexer": "ipython3",
   "version": "3.12.7"
  }
 },
 "nbformat": 4,
 "nbformat_minor": 5
}
